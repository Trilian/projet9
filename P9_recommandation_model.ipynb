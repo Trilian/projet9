{
 "cells": [
  {
   "cell_type": "code",
   "execution_count": 1,
   "id": "f21eb103",
   "metadata": {},
   "outputs": [],
   "source": [
    "import pickle\n",
    "import numpy as np\n",
    "import scipy.sparse as sparse\n",
    "from IPython.display import display\n",
    "import implicit\n",
    "from modules.evaluate import evaluate_system\n",
    "from modules.model_content_based import ContentBasedModel\n",
    "from modules.get_data import GetData, list_click_article_by_user, add_features_model_cont_based, add_features_model_collab\n",
    "import warnings\n",
    "warnings.filterwarnings('ignore')"
   ]
  },
  {
   "cell_type": "code",
   "execution_count": 2,
   "id": "dd918657-30ca-4355-b290-a14bf7dc5095",
   "metadata": {},
   "outputs": [],
   "source": [
    "%load_ext pycodestyle_magic"
   ]
  },
  {
   "cell_type": "code",
   "execution_count": 3,
   "id": "e7219d69-1fa2-4f24-9abd-f2e61a11e51f",
   "metadata": {},
   "outputs": [],
   "source": [
    "# %flake8_on"
   ]
  },
  {
   "cell_type": "markdown",
   "id": "d31bff04",
   "metadata": {},
   "source": [
    "<div class=\"alert alert-block alert-info\">\n",
    "<h2><center><strong> Systeme de recommandation</strong></center></h2>\n",
    "        \n",
    "</div>"
   ]
  },
  {
   "cell_type": "markdown",
   "id": "499e3a55-8d2c-4aab-823d-9f241bf1418c",
   "metadata": {},
   "source": [
    "Il existe 2 types de système de recommandation :\n",
    "\n",
    "- un basé sur \"Content-based\" \n",
    "\n",
    "Le système va suggéré des elements similaires à ceux déjà vu par l'utilisateur\n",
    "\n",
    "- un basé sur \"Collaborative filtering\"\n",
    "\n",
    "Le système va essayer de prédire les préférences d'un utilisateur en se basant sur les préférences semblables d'utilisateur.\n",
    "Il fonctionne en recherchant un grand groupe de personnes et en trouvant un plus petit nombre d'utilisateurs ayant des goûts similaires à ceux d'un utilisateur particulier. Il examine les éléments qu'ils aiment et les combinent pour créer une liste classée de suggestions."
   ]
  },
  {
   "cell_type": "markdown",
   "id": "b5a3c2f8",
   "metadata": {},
   "source": [
    "<div class=\"alert alert-block alert-success\">  \n",
    "<strong>1.1 Chargement du jeu de données<a id='head-1-2'></a> 📕 📗 📘 📙</strong>\n",
    "        \n",
    "</div>"
   ]
  },
  {
   "cell_type": "markdown",
   "id": "dba12b0b-ba1d-4f04-ae3f-49168c7b8828",
   "metadata": {},
   "source": [
    "*On charge le jeu de données provenant du News \"Portal\"*"
   ]
  },
  {
   "cell_type": "code",
   "execution_count": 4,
   "id": "c26b4ce7-0bea-4c42-9c9e-cf84bd6283fd",
   "metadata": {
    "tags": []
   },
   "outputs": [],
   "source": [
    "DATA_PATH_INPUT = \"data/data_source/\"\n",
    "DATA_PATH_OUTPUT = \"data/data_output/\"\n",
    "data_df = GetData(\n",
    "                  interaction_path=DATA_PATH_INPUT+\"clicks/\",\n",
    "                  article_path=DATA_PATH_INPUT+\"articles_metadata.csv\",\n",
    "                  matrice_embedding_path=DATA_PATH_INPUT+\"articles_embeddings.pickle\"\n",
    "                   )\n",
    "interactions_df, articles_df, article_matrice = data_df.load_data()"
   ]
  },
  {
   "cell_type": "markdown",
   "id": "d4a0ad5b-154a-48a6-a8fe-e1c46482f922",
   "metadata": {},
   "source": [
    "On transforme la valeur ancienneté pour avoir le nombre de jours par rapport à l'article le plus récent : "
   ]
  },
  {
   "cell_type": "code",
   "execution_count": 5,
   "id": "6f2220c5-a035-440d-9462-d5d8b270d24d",
   "metadata": {},
   "outputs": [],
   "source": [
    "articles_df['anciennete'] = abs(articles_df['created_at_ts'] - articles_df['created_at_ts'].max())\n",
    "articles_df['anciennete'] = articles_df['anciennete'] / np.timedelta64(1, 'D')"
   ]
  },
  {
   "cell_type": "markdown",
   "id": "f4f0f150-ae53-46e1-9fca-e75fd8dfa49a",
   "metadata": {},
   "source": [
    "Ajout de la popularité d'un article (nombre de clicks totaux) : "
   ]
  },
  {
   "cell_type": "code",
   "execution_count": 6,
   "id": "48bf9d31-b052-4e19-b79c-469cb96d0426",
   "metadata": {},
   "outputs": [],
   "source": [
    "article_pop_df = interactions_df[['click_article_id', 'user_id']]\n",
    "article_pop_df = article_pop_df.groupby(by=['click_article_id'],  as_index=False).agg('count')\n",
    "article_pop_df.rename(columns={\"user_id\": \"popularite\"}, inplace=True)\n",
    "article_pop_df = article_pop_df.sort_values(by=['popularite'], ascending=False)"
   ]
  },
  {
   "cell_type": "code",
   "execution_count": 7,
   "id": "ed9b5dd3-7a48-4c9d-b04d-8660fc5533cc",
   "metadata": {},
   "outputs": [
    {
     "data": {
      "text/html": [
       "<div>\n",
       "<style scoped>\n",
       "    .dataframe tbody tr th:only-of-type {\n",
       "        vertical-align: middle;\n",
       "    }\n",
       "\n",
       "    .dataframe tbody tr th {\n",
       "        vertical-align: top;\n",
       "    }\n",
       "\n",
       "    .dataframe thead th {\n",
       "        text-align: right;\n",
       "    }\n",
       "</style>\n",
       "<table border=\"1\" class=\"dataframe\">\n",
       "  <thead>\n",
       "    <tr style=\"text-align: right;\">\n",
       "      <th></th>\n",
       "      <th>article_id</th>\n",
       "      <th>category_id</th>\n",
       "      <th>created_at_ts</th>\n",
       "      <th>publisher_id</th>\n",
       "      <th>words_count</th>\n",
       "      <th>anciennete</th>\n",
       "    </tr>\n",
       "  </thead>\n",
       "  <tbody>\n",
       "    <tr>\n",
       "      <th>294012</th>\n",
       "      <td>294012</td>\n",
       "      <td>428</td>\n",
       "      <td>2018-12-02</td>\n",
       "      <td>0</td>\n",
       "      <td>70</td>\n",
       "      <td>0.0</td>\n",
       "    </tr>\n",
       "    <tr>\n",
       "      <th>17017</th>\n",
       "      <td>17017</td>\n",
       "      <td>7</td>\n",
       "      <td>2018-12-02</td>\n",
       "      <td>0</td>\n",
       "      <td>144</td>\n",
       "      <td>0.0</td>\n",
       "    </tr>\n",
       "    <tr>\n",
       "      <th>21484</th>\n",
       "      <td>21484</td>\n",
       "      <td>10</td>\n",
       "      <td>2018-12-02</td>\n",
       "      <td>0</td>\n",
       "      <td>232</td>\n",
       "      <td>0.0</td>\n",
       "    </tr>\n",
       "    <tr>\n",
       "      <th>89868</th>\n",
       "      <td>89868</td>\n",
       "      <td>199</td>\n",
       "      <td>2018-12-02</td>\n",
       "      <td>0</td>\n",
       "      <td>182</td>\n",
       "      <td>0.0</td>\n",
       "    </tr>\n",
       "    <tr>\n",
       "      <th>21487</th>\n",
       "      <td>21487</td>\n",
       "      <td>10</td>\n",
       "      <td>2018-12-02</td>\n",
       "      <td>0</td>\n",
       "      <td>162</td>\n",
       "      <td>0.0</td>\n",
       "    </tr>\n",
       "  </tbody>\n",
       "</table>\n",
       "</div>"
      ],
      "text/plain": [
       "        article_id  category_id created_at_ts  publisher_id  words_count  \\\n",
       "294012      294012          428    2018-12-02             0           70   \n",
       "17017        17017            7    2018-12-02             0          144   \n",
       "21484        21484           10    2018-12-02             0          232   \n",
       "89868        89868          199    2018-12-02             0          182   \n",
       "21487        21487           10    2018-12-02             0          162   \n",
       "\n",
       "        anciennete  \n",
       "294012         0.0  \n",
       "17017          0.0  \n",
       "21484          0.0  \n",
       "89868          0.0  \n",
       "21487          0.0  "
      ]
     },
     "metadata": {},
     "output_type": "display_data"
    }
   ],
   "source": [
    "articles_df.sort_values(by=['created_at_ts'], ascending=False, inplace=True)\n",
    "display(articles_df.head())"
   ]
  },
  {
   "cell_type": "markdown",
   "id": "321b0a96-e3a1-40af-8c2b-4d34a9ed977f",
   "metadata": {},
   "source": [
    "- Ajout de la popularite et de l'ancienneté au jeu de données initial : "
   ]
  },
  {
   "cell_type": "code",
   "execution_count": 8,
   "id": "00f013af-820e-470d-9d8d-34a7b2c1e4d8",
   "metadata": {},
   "outputs": [
    {
     "data": {
      "text/html": [
       "<div>\n",
       "<style scoped>\n",
       "    .dataframe tbody tr th:only-of-type {\n",
       "        vertical-align: middle;\n",
       "    }\n",
       "\n",
       "    .dataframe tbody tr th {\n",
       "        vertical-align: top;\n",
       "    }\n",
       "\n",
       "    .dataframe thead th {\n",
       "        text-align: right;\n",
       "    }\n",
       "</style>\n",
       "<table border=\"1\" class=\"dataframe\">\n",
       "  <thead>\n",
       "    <tr style=\"text-align: right;\">\n",
       "      <th></th>\n",
       "      <th>article_id</th>\n",
       "      <th>category_id</th>\n",
       "      <th>created_at_ts</th>\n",
       "      <th>publisher_id</th>\n",
       "      <th>words_count</th>\n",
       "      <th>anciennete</th>\n",
       "      <th>popularite</th>\n",
       "    </tr>\n",
       "  </thead>\n",
       "  <tbody>\n",
       "    <tr>\n",
       "      <th>112272</th>\n",
       "      <td>364046</td>\n",
       "      <td>460</td>\n",
       "      <td>2017-09-19</td>\n",
       "      <td>0</td>\n",
       "      <td>479</td>\n",
       "      <td>439.0</td>\n",
       "      <td>2.0</td>\n",
       "    </tr>\n",
       "    <tr>\n",
       "      <th>44458</th>\n",
       "      <td>364045</td>\n",
       "      <td>460</td>\n",
       "      <td>2018-01-14</td>\n",
       "      <td>0</td>\n",
       "      <td>126</td>\n",
       "      <td>322.0</td>\n",
       "      <td>0.0</td>\n",
       "    </tr>\n",
       "    <tr>\n",
       "      <th>247898</th>\n",
       "      <td>364044</td>\n",
       "      <td>460</td>\n",
       "      <td>2016-03-14</td>\n",
       "      <td>0</td>\n",
       "      <td>177</td>\n",
       "      <td>993.0</td>\n",
       "      <td>0.0</td>\n",
       "    </tr>\n",
       "    <tr>\n",
       "      <th>264568</th>\n",
       "      <td>364043</td>\n",
       "      <td>460</td>\n",
       "      <td>2015-12-06</td>\n",
       "      <td>0</td>\n",
       "      <td>463</td>\n",
       "      <td>1092.0</td>\n",
       "      <td>8.0</td>\n",
       "    </tr>\n",
       "    <tr>\n",
       "      <th>269000</th>\n",
       "      <td>364042</td>\n",
       "      <td>460</td>\n",
       "      <td>2015-11-06</td>\n",
       "      <td>0</td>\n",
       "      <td>144</td>\n",
       "      <td>1122.0</td>\n",
       "      <td>0.0</td>\n",
       "    </tr>\n",
       "  </tbody>\n",
       "</table>\n",
       "</div>"
      ],
      "text/plain": [
       "        article_id  category_id created_at_ts  publisher_id  words_count  \\\n",
       "112272      364046          460    2017-09-19             0          479   \n",
       "44458       364045          460    2018-01-14             0          126   \n",
       "247898      364044          460    2016-03-14             0          177   \n",
       "264568      364043          460    2015-12-06             0          463   \n",
       "269000      364042          460    2015-11-06             0          144   \n",
       "\n",
       "        anciennete  popularite  \n",
       "112272       439.0         2.0  \n",
       "44458        322.0         0.0  \n",
       "247898       993.0         0.0  \n",
       "264568      1092.0         8.0  \n",
       "269000      1122.0         0.0  "
      ]
     },
     "metadata": {},
     "output_type": "display_data"
    }
   ],
   "source": [
    "articles_new_features_df = articles_df.merge(\n",
    "                                            article_pop_df,\n",
    "                                            how='left',\n",
    "                                            left_on=['article_id'],\n",
    "                                            right_on=['click_article_id']\n",
    "                                          )\n",
    "articles_new_features_df.drop(['click_article_id'], axis=1, inplace=True)\n",
    "articles_new_features_df['popularite'] = articles_new_features_df['popularite'].fillna(0)\n",
    "articles_new_features_df.sort_values(by=['article_id'], ascending=False, inplace=True)\n",
    "display(articles_new_features_df.head())"
   ]
  },
  {
   "cell_type": "code",
   "execution_count": 9,
   "id": "ee74e19d-0776-42b3-ba33-666b7309a74c",
   "metadata": {},
   "outputs": [],
   "source": [
    "articles_new_features_df = articles_new_features_df.sort_values(by=['popularite'], ascending=False)"
   ]
  },
  {
   "cell_type": "markdown",
   "id": "5a4e7fc3-e8e8-4068-a88f-7329ce3267c4",
   "metadata": {},
   "source": [
    "- permet de connaitre les articles consultés pour chaque utilisateur : "
   ]
  },
  {
   "cell_type": "code",
   "execution_count": 10,
   "id": "b8449781-aaa7-4be2-92f8-c726df95bd1d",
   "metadata": {},
   "outputs": [],
   "source": [
    "interactions_user_df = list_click_article_by_user(interactions_df)"
   ]
  },
  {
   "cell_type": "markdown",
   "id": "cecb7b11-9618-4e6c-ac52-fc47c0a236d1",
   "metadata": {},
   "source": [
    "- ajout d'information à la matrice embedding (nombre de mots/article) :"
   ]
  },
  {
   "cell_type": "code",
   "execution_count": 11,
   "id": "b26cc94f-49a6-4ede-b329-709f05c16d3b",
   "metadata": {},
   "outputs": [],
   "source": [
    "article_matrice= add_features_model_cont_based(article_matrice, articles_df)"
   ]
  },
  {
   "cell_type": "markdown",
   "id": "30ad38c9-3bef-410d-b72e-72e6f5912e39",
   "metadata": {},
   "source": [
    "- permet de connaitre la force d'interraction entre un utilisateur et un article . Remplace le rating dans le cas d'une interraction implicite. Il est basé sur le nombre de clicks effectués par l'utilisateur au cours de la période concernée."
   ]
  },
  {
   "cell_type": "code",
   "execution_count": 12,
   "id": "03cfc19d-f3a7-4692-a54c-1b13750af69e",
   "metadata": {},
   "outputs": [
    {
     "data": {
      "text/html": [
       "<div>\n",
       "<style scoped>\n",
       "    .dataframe tbody tr th:only-of-type {\n",
       "        vertical-align: middle;\n",
       "    }\n",
       "\n",
       "    .dataframe tbody tr th {\n",
       "        vertical-align: top;\n",
       "    }\n",
       "\n",
       "    .dataframe thead th {\n",
       "        text-align: right;\n",
       "    }\n",
       "</style>\n",
       "<table border=\"1\" class=\"dataframe\">\n",
       "  <thead>\n",
       "    <tr style=\"text-align: right;\">\n",
       "      <th></th>\n",
       "      <th>user_id</th>\n",
       "      <th>article_id</th>\n",
       "      <th>interactionStrength</th>\n",
       "    </tr>\n",
       "  </thead>\n",
       "  <tbody>\n",
       "    <tr>\n",
       "      <th>0</th>\n",
       "      <td>0</td>\n",
       "      <td>68866</td>\n",
       "      <td>1</td>\n",
       "    </tr>\n",
       "    <tr>\n",
       "      <th>1</th>\n",
       "      <td>0</td>\n",
       "      <td>87205</td>\n",
       "      <td>1</td>\n",
       "    </tr>\n",
       "    <tr>\n",
       "      <th>2</th>\n",
       "      <td>0</td>\n",
       "      <td>87224</td>\n",
       "      <td>1</td>\n",
       "    </tr>\n",
       "    <tr>\n",
       "      <th>3</th>\n",
       "      <td>0</td>\n",
       "      <td>96755</td>\n",
       "      <td>1</td>\n",
       "    </tr>\n",
       "    <tr>\n",
       "      <th>4</th>\n",
       "      <td>0</td>\n",
       "      <td>157541</td>\n",
       "      <td>1</td>\n",
       "    </tr>\n",
       "  </tbody>\n",
       "</table>\n",
       "</div>"
      ],
      "text/plain": [
       "   user_id  article_id  interactionStrength\n",
       "0        0       68866                    1\n",
       "1        0       87205                    1\n",
       "2        0       87224                    1\n",
       "3        0       96755                    1\n",
       "4        0      157541                    1"
      ]
     },
     "execution_count": 12,
     "metadata": {},
     "output_type": "execute_result"
    }
   ],
   "source": [
    "collab_data_df = add_features_model_collab(articles_df, interactions_df)\n",
    "collab_data_df.head()"
   ]
  },
  {
   "cell_type": "markdown",
   "id": "ab7ca77b",
   "metadata": {},
   "source": [
    " <div class=\"alert alert-block alert-success\">  \n",
    "<strong>1.2 Content Based Model<a id='head-1-2'></a> 📕 📗 📘 📙</strong>\n",
    "        \n",
    "</div>"
   ]
  },
  {
   "cell_type": "markdown",
   "id": "5145e6bf",
   "metadata": {},
   "source": [
    "- On sauvegarde les informations pour le modèle sous forme pickle :"
   ]
  },
  {
   "cell_type": "code",
   "execution_count": 13,
   "id": "c2889008",
   "metadata": {},
   "outputs": [],
   "source": [
    "FILENAME = DATA_PATH_OUTPUT + 'article_matrice.pkl'\n",
    "outfile = open(FILENAME, 'wb')\n",
    "pickle.dump(article_matrice, outfile)\n",
    "outfile.close()\n",
    "\n",
    "FILENAME = DATA_PATH_OUTPUT + 'interactions_user.pkl'\n",
    "outfile = open(FILENAME, 'wb')\n",
    "pickle.dump(interactions_user_df, outfile)\n",
    "outfile.close()\n"
   ]
  },
  {
   "cell_type": "markdown",
   "id": "a1bcc55d",
   "metadata": {},
   "source": [
    "- Sélection de 5 articles les plus proche en utilisant la distance cosninus pour l'utilisateur 10"
   ]
  },
  {
   "cell_type": "code",
   "execution_count": 14,
   "id": "2e671d1d-06c1-4bb5-8daf-69356f373647",
   "metadata": {},
   "outputs": [],
   "source": [
    "content_based_model = ContentBasedModel()\n",
    "recommendations = content_based_model.get_recommandations(10)"
   ]
  },
  {
   "cell_type": "code",
   "execution_count": 15,
   "id": "84c0e713-5eea-4cdf-a2d6-197369e37f30",
   "metadata": {},
   "outputs": [
    {
     "data": {
      "text/plain": [
       "[34328, 34175, 34224, 34121, 34339]"
      ]
     },
     "metadata": {},
     "output_type": "display_data"
    }
   ],
   "source": [
    "display(recommendations)"
   ]
  },
  {
   "cell_type": "markdown",
   "id": "ef267115-ca00-4958-a110-996ec5864d41",
   "metadata": {},
   "source": [
    " <div class=\"alert alert-block alert-success\">  \n",
    "<strong>1.3 Colaborative Based Model<a id='head-1-2'></a> 📕 📗 📘 📙</strong>\n",
    "        \n",
    "</div>"
   ]
  },
  {
   "cell_type": "markdown",
   "id": "23a1d935-130c-4a41-ba46-372d0c770cd9",
   "metadata": {},
   "source": [
    "On calcule les matrices factorisations pour le modèle ALS (Alternating Least Squares)"
   ]
  },
  {
   "cell_type": "code",
   "execution_count": 16,
   "id": "212ac5b8-5831-40aa-b4cf-89135fa92760",
   "metadata": {},
   "outputs": [],
   "source": [
    "sparse_item_user = sparse.csr_matrix((collab_data_df['interactionStrength'].astype(float),\n",
    "                                     (collab_data_df['article_id'], collab_data_df['user_id'])))\n",
    "sparse_user_item = sparse.csr_matrix((collab_data_df['interactionStrength'].astype(float),\n",
    "                                     (collab_data_df['user_id'], collab_data_df['article_id'])))"
   ]
  },
  {
   "cell_type": "markdown",
   "id": "798b403b-39f9-4bc8-a859-a49cb510838b",
   "metadata": {},
   "source": [
    "Construction du modèle en se basant sur l'algorithme ALS"
   ]
  },
  {
   "cell_type": "code",
   "execution_count": 17,
   "id": "d4594cf5-5754-4ec3-9233-b75d878d145b",
   "metadata": {},
   "outputs": [
    {
     "name": "stderr",
     "output_type": "stream",
     "text": [
      "WARNING:root:Intel MKL BLAS detected. Its highly recommend to set the environment variable 'export MKL_NUM_THREADS=1' to disable its internal multithreading\n"
     ]
    },
    {
     "data": {
      "application/vnd.jupyter.widget-view+json": {
       "model_id": "05ffc83843364104b1e9d5290a2aa072",
       "version_major": 2,
       "version_minor": 0
      },
      "text/plain": [
       "  0%|          | 0/20 [00:00<?, ?it/s]"
      ]
     },
     "metadata": {},
     "output_type": "display_data"
    }
   ],
   "source": [
    "colab_model = implicit.als.AlternatingLeastSquares(factors=20, regularization=0.1, iterations=20)\n",
    "ALPHA_VAL = 40\n",
    "data_conf = (sparse_item_user * ALPHA_VAL).astype('double')\n",
    "colab_model.fit(data_conf)"
   ]
  },
  {
   "cell_type": "markdown",
   "id": "4f0775f2-0a97-41dc-b65e-97179b8c018f",
   "metadata": {},
   "source": [
    "- Sauvegarde des données nécessaires sous forme de pickle"
   ]
  },
  {
   "cell_type": "code",
   "execution_count": 26,
   "id": "575feeea-1e71-4a2b-bb0b-54d7a2e273b7",
   "metadata": {},
   "outputs": [],
   "source": [
    "\n",
    "FILENAME = DATA_PATH_OUTPUT + 'colab_model.pkl'\n",
    "outfile = open(FILENAME, 'wb')\n",
    "pickle.dump(colab_model, outfile)\n",
    "outfile.close()\n",
    "\n",
    "FILENAME = DATA_PATH_OUTPUT + 'sparse_item_user.pkl'\n",
    "outfile = open(FILENAME, 'wb')\n",
    "pickle.dump(sparse_item_user, outfile)\n",
    "outfile.close()"
   ]
  },
  {
   "cell_type": "markdown",
   "id": "e913332b-8812-4be5-8037-beae9bfb9e78",
   "metadata": {},
   "source": [
    "- Sélection de 5 articles les plus proche en utilisant l'algorithme basé moindre carré pour l'utilisateur 10"
   ]
  },
  {
   "cell_type": "code",
   "execution_count": 21,
   "id": "851752fb-349b-44b5-b508-91c9ce809ff4",
   "metadata": {},
   "outputs": [],
   "source": [
    "# Create recommendations for person with id 50\n",
    "USER_ID = 10\n",
    "recommendations = colab_model.recommend(USER_ID,\n",
    "                                        sparse_user_item,\n",
    "                                        N=5,\n",
    "                                        filter_already_liked_items=True)"
   ]
  },
  {
   "cell_type": "code",
   "execution_count": 22,
   "id": "6f00268d-db1f-4814-9b75-271bf09ad567",
   "metadata": {},
   "outputs": [
    {
     "data": {
      "text/plain": [
       "[129434, 124177, 336220, 289090, 124749]"
      ]
     },
     "metadata": {},
     "output_type": "display_data"
    }
   ],
   "source": [
    "recommendations_list = []\n",
    "for i, j in recommendations:\n",
    "    recommendations_list.append(i)\n",
    "display(recommendations_list)"
   ]
  },
  {
   "cell_type": "markdown",
   "id": "6aff882e-d633-4cc9-87de-36f855a5b1e1",
   "metadata": {},
   "source": [
    " <div class=\"alert alert-block alert-success\">  \n",
    "<strong>1.4 Metriques<a id='head-1-2'></a> 📕 📗 📘 📙</strong>\n",
    "        \n",
    "</div>"
   ]
  },
  {
   "cell_type": "markdown",
   "id": "c2a354f4-1dfc-4ba8-8e86-83d20499acde",
   "metadata": {},
   "source": [
    "Pour calculer les performances de chaque modèle, on utilisera :\n",
    "   - l'ancienneté des articles recommandés \n",
    "   - leur popularité\n",
    "   - la catégorie\n",
    "   - la taille du modèle"
   ]
  },
  {
   "cell_type": "code",
   "execution_count": 27,
   "id": "e1ef45c0-f84b-4099-afe8-ea6e4c5b4a44",
   "metadata": {},
   "outputs": [],
   "source": [
    "USER_SIZE = 1000\n",
    "NB_USERS = interactions_user_df['user_id'].nunique()\n",
    "users_list = np.random.randint(0,NB_USERS-1, size=USER_SIZE)"
   ]
  },
  {
   "cell_type": "code",
   "execution_count": 29,
   "id": "e112c79e-8e23-4467-b9dc-35bb26b671e7",
   "metadata": {},
   "outputs": [
    {
     "name": "stdout",
     "output_type": "stream",
     "text": [
      "Il y a au total 790 catégories identiques ce qui repréente (sur les recommandations) 8.7%\n",
      "En moyenne, l ancienneté est de 798.9578 jours et la popularite de 3.7142 clicks\n"
     ]
    }
   ],
   "source": [
    "total_cat, pourcentage_cat, moyenne_anciennete, moyenne_popularite = \\\n",
    "            evaluate_system(model_name='RANDOM',\n",
    "                            model = None,\n",
    "                            sparse_user_item=None,\n",
    "                            interactions_user_df=interactions_user_df,\n",
    "                            articles_new_features_df=articles_new_features_df,\n",
    "                            users_size=USER_SIZE,\n",
    "                            users=users_list)\n",
    "\n",
    "print(f'Il y a au total {total_cat} catégories identiques ce qui repréente (sur les recommandations) {pourcentage_cat}%')\n",
    "print(f'En moyenne, l ancienneté est de {moyenne_anciennete} jours et la popularite de {moyenne_popularite} clicks')"
   ]
  },
  {
   "cell_type": "code",
   "execution_count": 30,
   "id": "1dc994d9-8382-47ea-b634-a8f910265a65",
   "metadata": {},
   "outputs": [
    {
     "name": "stdout",
     "output_type": "stream",
     "text": [
      "Il y a au total 6959 catégories identiques ce qui repréente (sur les recommandations) 76.4%\n",
      "En moyenne, l ancienneté est de 643.0816 jours et la popularite de 164.9446 clicks\n"
     ]
    }
   ],
   "source": [
    "total_cat, pourcentage_cat, moyenne_anciennete, moyenne_popularite = \\\n",
    "            evaluate_system(model_name='CONTENT',\n",
    "                            model = content_based_model,\n",
    "                            sparse_user_item=None,\n",
    "                            interactions_user_df=interactions_user_df,\n",
    "                            articles_new_features_df=articles_new_features_df,\n",
    "                            users_size=USER_SIZE,\n",
    "                            users=users_list)\n",
    "print(f'Il y a au total {total_cat} catégories identiques ce qui repréente (sur les recommandations) {pourcentage_cat}%')\n",
    "print(f'En moyenne, l ancienneté est de {moyenne_anciennete} jours et la popularite de {moyenne_popularite} clicks')"
   ]
  },
  {
   "cell_type": "code",
   "execution_count": 31,
   "id": "105de44d-3096-44c3-9e42-45a8d337d030",
   "metadata": {},
   "outputs": [
    {
     "name": "stdout",
     "output_type": "stream",
     "text": [
      "Il y a au total 3681 catégories identiques ce qui repréente (sur les recommandations) 40.4%\n",
      "En moyenne, l ancienneté est de 510.8694 jours et la popularite de 11460.5756 clicks\n"
     ]
    }
   ],
   "source": [
    "total_cat, pourcentage_cat, moyenne_anciennete, moyenne_popularite = \\\n",
    "            evaluate_system(model_name='COLLABORATIVE',\n",
    "                            model=colab_model,\n",
    "                            sparse_user_item=sparse_user_item,\n",
    "                            interactions_user_df=interactions_user_df,\n",
    "                            articles_new_features_df=articles_new_features_df,\n",
    "                            users_size=USER_SIZE,\n",
    "                            users=users_list)\n",
    "\n",
    "print(f'Il y a au total {total_cat} catégories identiques ce qui repréente (sur les recommandations) {pourcentage_cat}%')\n",
    "print(f'En moyenne, l ancienneté est de {moyenne_anciennete} jours et la popularite de {moyenne_popularite} clicks')"
   ]
  }
 ],
 "metadata": {
  "kernelspec": {
   "display_name": "Python 3",
   "language": "python",
   "name": "python3"
  },
  "language_info": {
   "codemirror_mode": {
    "name": "ipython",
    "version": 3
   },
   "file_extension": ".py",
   "mimetype": "text/x-python",
   "name": "python",
   "nbconvert_exporter": "python",
   "pygments_lexer": "ipython3",
   "version": "3.7.10"
  }
 },
 "nbformat": 4,
 "nbformat_minor": 5
}
