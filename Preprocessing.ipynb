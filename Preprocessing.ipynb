{
 "cells": [
  {
   "cell_type": "markdown",
   "id": "21b55e87-1c81-4b7f-95eb-dbf36cf37f87",
   "metadata": {},
   "source": [
    "<div class=\"alert alert-block alert-info\">\n",
    "<h2><center><strong> Participez à la conception d'une voiture autonome :Transformation </strong></center></h2>\n",
    "        \n",
    "</div>"
   ]
  },
  {
   "cell_type": "markdown",
   "id": "01885610-6a7c-4187-9ed7-064eb77099fc",
   "metadata": {},
   "source": [
    "<div class=\"alert alert-block alert-success\">  \n",
    "<strong>1.1 Importing des packages<a id='head-1-2'></a> 📕 📗 📘 📙</strong>\n",
    "        \n",
    "</div>"
   ]
  },
  {
   "cell_type": "code",
   "execution_count": 15,
   "id": "ad054b6d-0979-4012-98a4-cfca9b76fcd3",
   "metadata": {},
   "outputs": [],
   "source": [
    "import numpy as np # linear algebra\n",
    "import pandas as pd # data processing, CSV file I/O (e.g. pd.read_csv)\n",
    "from scipy.spatial import distance\n",
    "import os\n",
    "import _pickle as cPickle\n",
    "import matplotlib.pyplot as plt\n",
    "from sklearn.manifold import TSNE\n",
    "# generate random integer values\n",
    "from random import seed\n",
    "from random import randint\n",
    "seed(42)\n",
    "from scipy.spatial import distance\n",
    "from scipy import sparse"
   ]
  },
  {
   "cell_type": "markdown",
   "id": "f835af7b-6375-4bff-8ec1-048fcf7d8d97",
   "metadata": {},
   "source": [
    "<div class=\"alert alert-block alert-danger\">  \n",
    "<h2><center><strong>2.Etude du jeu de données<a id='head-2'></a></strong></center></h2>\n",
    "        \n",
    "</div>"
   ]
  },
  {
   "cell_type": "markdown",
   "id": "34f1036c-70b3-42d9-84d9-8efce06066a9",
   "metadata": {},
   "source": [
    "<div class=\"alert alert-block alert-success\">  \n",
    "<strong>2.1 Chargement du jeu de données<a id='head-1-2'></a> 📕 📗 📘 📙</strong>\n",
    "        \n",
    "</div>"
   ]
  },
  {
   "cell_type": "code",
   "execution_count": 16,
   "id": "686ef22d-3a10-4641-90fa-6d03d59539fc",
   "metadata": {},
   "outputs": [
    {
     "data": {
      "text/html": [
       "<div>\n",
       "<style scoped>\n",
       "    .dataframe tbody tr th:only-of-type {\n",
       "        vertical-align: middle;\n",
       "    }\n",
       "\n",
       "    .dataframe tbody tr th {\n",
       "        vertical-align: top;\n",
       "    }\n",
       "\n",
       "    .dataframe thead th {\n",
       "        text-align: right;\n",
       "    }\n",
       "</style>\n",
       "<table border=\"1\" class=\"dataframe\">\n",
       "  <thead>\n",
       "    <tr style=\"text-align: right;\">\n",
       "      <th></th>\n",
       "      <th>user_id</th>\n",
       "      <th>session_id</th>\n",
       "      <th>session_start</th>\n",
       "      <th>session_size</th>\n",
       "      <th>click_article_id</th>\n",
       "      <th>click_timestamp</th>\n",
       "      <th>click_environment</th>\n",
       "      <th>click_deviceGroup</th>\n",
       "      <th>click_os</th>\n",
       "      <th>click_country</th>\n",
       "      <th>click_region</th>\n",
       "      <th>click_referrer_type</th>\n",
       "    </tr>\n",
       "  </thead>\n",
       "  <tbody>\n",
       "    <tr>\n",
       "      <th>0</th>\n",
       "      <td>0</td>\n",
       "      <td>1506825423271737</td>\n",
       "      <td>1506825423000</td>\n",
       "      <td>2</td>\n",
       "      <td>157541</td>\n",
       "      <td>1506826828020</td>\n",
       "      <td>4</td>\n",
       "      <td>3</td>\n",
       "      <td>20</td>\n",
       "      <td>1</td>\n",
       "      <td>20</td>\n",
       "      <td>2</td>\n",
       "    </tr>\n",
       "    <tr>\n",
       "      <th>1</th>\n",
       "      <td>0</td>\n",
       "      <td>1506825423271737</td>\n",
       "      <td>1506825423000</td>\n",
       "      <td>2</td>\n",
       "      <td>68866</td>\n",
       "      <td>1506826858020</td>\n",
       "      <td>4</td>\n",
       "      <td>3</td>\n",
       "      <td>20</td>\n",
       "      <td>1</td>\n",
       "      <td>20</td>\n",
       "      <td>2</td>\n",
       "    </tr>\n",
       "    <tr>\n",
       "      <th>2</th>\n",
       "      <td>1</td>\n",
       "      <td>1506825426267738</td>\n",
       "      <td>1506825426000</td>\n",
       "      <td>2</td>\n",
       "      <td>235840</td>\n",
       "      <td>1506827017951</td>\n",
       "      <td>4</td>\n",
       "      <td>1</td>\n",
       "      <td>17</td>\n",
       "      <td>1</td>\n",
       "      <td>16</td>\n",
       "      <td>2</td>\n",
       "    </tr>\n",
       "    <tr>\n",
       "      <th>3</th>\n",
       "      <td>1</td>\n",
       "      <td>1506825426267738</td>\n",
       "      <td>1506825426000</td>\n",
       "      <td>2</td>\n",
       "      <td>96663</td>\n",
       "      <td>1506827047951</td>\n",
       "      <td>4</td>\n",
       "      <td>1</td>\n",
       "      <td>17</td>\n",
       "      <td>1</td>\n",
       "      <td>16</td>\n",
       "      <td>2</td>\n",
       "    </tr>\n",
       "    <tr>\n",
       "      <th>4</th>\n",
       "      <td>2</td>\n",
       "      <td>1506825435299739</td>\n",
       "      <td>1506825435000</td>\n",
       "      <td>2</td>\n",
       "      <td>119592</td>\n",
       "      <td>1506827090575</td>\n",
       "      <td>4</td>\n",
       "      <td>1</td>\n",
       "      <td>17</td>\n",
       "      <td>1</td>\n",
       "      <td>24</td>\n",
       "      <td>2</td>\n",
       "    </tr>\n",
       "    <tr>\n",
       "      <th>5</th>\n",
       "      <td>2</td>\n",
       "      <td>1506825435299739</td>\n",
       "      <td>1506825435000</td>\n",
       "      <td>2</td>\n",
       "      <td>30970</td>\n",
       "      <td>1506827120575</td>\n",
       "      <td>4</td>\n",
       "      <td>1</td>\n",
       "      <td>17</td>\n",
       "      <td>1</td>\n",
       "      <td>24</td>\n",
       "      <td>2</td>\n",
       "    </tr>\n",
       "    <tr>\n",
       "      <th>6</th>\n",
       "      <td>3</td>\n",
       "      <td>1506825442704740</td>\n",
       "      <td>1506825442000</td>\n",
       "      <td>2</td>\n",
       "      <td>236065</td>\n",
       "      <td>1506827536942</td>\n",
       "      <td>4</td>\n",
       "      <td>3</td>\n",
       "      <td>2</td>\n",
       "      <td>1</td>\n",
       "      <td>21</td>\n",
       "      <td>1</td>\n",
       "    </tr>\n",
       "    <tr>\n",
       "      <th>7</th>\n",
       "      <td>3</td>\n",
       "      <td>1506825442704740</td>\n",
       "      <td>1506825442000</td>\n",
       "      <td>2</td>\n",
       "      <td>236294</td>\n",
       "      <td>1506827566942</td>\n",
       "      <td>4</td>\n",
       "      <td>3</td>\n",
       "      <td>2</td>\n",
       "      <td>1</td>\n",
       "      <td>21</td>\n",
       "      <td>1</td>\n",
       "    </tr>\n",
       "    <tr>\n",
       "      <th>8</th>\n",
       "      <td>4</td>\n",
       "      <td>1506825528135741</td>\n",
       "      <td>1506825528000</td>\n",
       "      <td>2</td>\n",
       "      <td>48915</td>\n",
       "      <td>1506826927593</td>\n",
       "      <td>4</td>\n",
       "      <td>1</td>\n",
       "      <td>17</td>\n",
       "      <td>1</td>\n",
       "      <td>17</td>\n",
       "      <td>1</td>\n",
       "    </tr>\n",
       "    <tr>\n",
       "      <th>9</th>\n",
       "      <td>4</td>\n",
       "      <td>1506825528135741</td>\n",
       "      <td>1506825528000</td>\n",
       "      <td>2</td>\n",
       "      <td>44488</td>\n",
       "      <td>1506826957593</td>\n",
       "      <td>4</td>\n",
       "      <td>1</td>\n",
       "      <td>17</td>\n",
       "      <td>1</td>\n",
       "      <td>17</td>\n",
       "      <td>1</td>\n",
       "    </tr>\n",
       "  </tbody>\n",
       "</table>\n",
       "</div>"
      ],
      "text/plain": [
       "  user_id        session_id  session_start session_size click_article_id  \\\n",
       "0       0  1506825423271737  1506825423000            2           157541   \n",
       "1       0  1506825423271737  1506825423000            2            68866   \n",
       "2       1  1506825426267738  1506825426000            2           235840   \n",
       "3       1  1506825426267738  1506825426000            2            96663   \n",
       "4       2  1506825435299739  1506825435000            2           119592   \n",
       "5       2  1506825435299739  1506825435000            2            30970   \n",
       "6       3  1506825442704740  1506825442000            2           236065   \n",
       "7       3  1506825442704740  1506825442000            2           236294   \n",
       "8       4  1506825528135741  1506825528000            2            48915   \n",
       "9       4  1506825528135741  1506825528000            2            44488   \n",
       "\n",
       "  click_timestamp click_environment click_deviceGroup click_os click_country  \\\n",
       "0   1506826828020                 4                 3       20             1   \n",
       "1   1506826858020                 4                 3       20             1   \n",
       "2   1506827017951                 4                 1       17             1   \n",
       "3   1506827047951                 4                 1       17             1   \n",
       "4   1506827090575                 4                 1       17             1   \n",
       "5   1506827120575                 4                 1       17             1   \n",
       "6   1506827536942                 4                 3        2             1   \n",
       "7   1506827566942                 4                 3        2             1   \n",
       "8   1506826927593                 4                 1       17             1   \n",
       "9   1506826957593                 4                 1       17             1   \n",
       "\n",
       "  click_region click_referrer_type  \n",
       "0           20                   2  \n",
       "1           20                   2  \n",
       "2           16                   2  \n",
       "3           16                   2  \n",
       "4           24                   2  \n",
       "5           24                   2  \n",
       "6           21                   1  \n",
       "7           21                   1  \n",
       "8           17                   1  \n",
       "9           17                   1  "
      ]
     },
     "execution_count": 16,
     "metadata": {},
     "output_type": "execute_result"
    }
   ],
   "source": [
    "\n",
    "li = []\n",
    "for dirname, _, filenames in os.walk('data/clicks'):\n",
    "    for filename in filenames:\n",
    "        #print(os.path.join(dirname, filename))\n",
    "        df = pd.read_csv(os.path.join(dirname, filename), index_col=None, header=0)\n",
    "        li.append(df)\n",
    "\n",
    "dfClicks = pd.concat(li, axis=0, ignore_index=True)\n",
    "dfClicks.head(10)"
   ]
  },
  {
   "cell_type": "code",
   "execution_count": 17,
   "id": "608b2bb6-9a4d-4641-b7f4-fa5f4f09cc8a",
   "metadata": {},
   "outputs": [],
   "source": [
    "users=pd.DataFrame({\"user_id\":dfClicks['user_id']})\n",
    "sessions=pd.DataFrame({\"session_id\":dfClicks['session_id']})"
   ]
  },
  {
   "cell_type": "code",
   "execution_count": 18,
   "id": "e45e1fb9-6363-492c-a8b4-5857967b251c",
   "metadata": {},
   "outputs": [
    {
     "data": {
      "text/html": [
       "<div>\n",
       "<style scoped>\n",
       "    .dataframe tbody tr th:only-of-type {\n",
       "        vertical-align: middle;\n",
       "    }\n",
       "\n",
       "    .dataframe tbody tr th {\n",
       "        vertical-align: top;\n",
       "    }\n",
       "\n",
       "    .dataframe thead th {\n",
       "        text-align: right;\n",
       "    }\n",
       "</style>\n",
       "<table border=\"1\" class=\"dataframe\">\n",
       "  <thead>\n",
       "    <tr style=\"text-align: right;\">\n",
       "      <th></th>\n",
       "      <th>article_id</th>\n",
       "      <th>category_id</th>\n",
       "      <th>created_at_ts</th>\n",
       "      <th>publisher_id</th>\n",
       "      <th>words_count</th>\n",
       "    </tr>\n",
       "  </thead>\n",
       "  <tbody>\n",
       "    <tr>\n",
       "      <th>0</th>\n",
       "      <td>0</td>\n",
       "      <td>0</td>\n",
       "      <td>1513144419000</td>\n",
       "      <td>0</td>\n",
       "      <td>168</td>\n",
       "    </tr>\n",
       "    <tr>\n",
       "      <th>1</th>\n",
       "      <td>1</td>\n",
       "      <td>1</td>\n",
       "      <td>1405341936000</td>\n",
       "      <td>0</td>\n",
       "      <td>189</td>\n",
       "    </tr>\n",
       "    <tr>\n",
       "      <th>2</th>\n",
       "      <td>2</td>\n",
       "      <td>1</td>\n",
       "      <td>1408667706000</td>\n",
       "      <td>0</td>\n",
       "      <td>250</td>\n",
       "    </tr>\n",
       "    <tr>\n",
       "      <th>3</th>\n",
       "      <td>3</td>\n",
       "      <td>1</td>\n",
       "      <td>1408468313000</td>\n",
       "      <td>0</td>\n",
       "      <td>230</td>\n",
       "    </tr>\n",
       "    <tr>\n",
       "      <th>4</th>\n",
       "      <td>4</td>\n",
       "      <td>1</td>\n",
       "      <td>1407071171000</td>\n",
       "      <td>0</td>\n",
       "      <td>162</td>\n",
       "    </tr>\n",
       "  </tbody>\n",
       "</table>\n",
       "</div>"
      ],
      "text/plain": [
       "   article_id  category_id  created_at_ts  publisher_id  words_count\n",
       "0           0            0  1513144419000             0          168\n",
       "1           1            1  1405341936000             0          189\n",
       "2           2            1  1408667706000             0          250\n",
       "3           3            1  1408468313000             0          230\n",
       "4           4            1  1407071171000             0          162"
      ]
     },
     "execution_count": 18,
     "metadata": {},
     "output_type": "execute_result"
    }
   ],
   "source": [
    "articlesDf = pd.read_csv('data/articles_metadata.csv', index_col=None, header=0)\n",
    "articlesDf.head()"
   ]
  },
  {
   "cell_type": "code",
   "execution_count": 19,
   "id": "d3e0cb79-f990-4d23-9636-21411994af19",
   "metadata": {},
   "outputs": [],
   "source": [
    "with open(r\"data/articles_embeddings.pickle\", \"rb\") as input_file:\n",
    "    e = cPickle.load(input_file)"
   ]
  },
  {
   "cell_type": "code",
   "execution_count": 20,
   "id": "819c9084-2bf9-4fa5-8e3b-62eb36d96a42",
   "metadata": {},
   "outputs": [],
   "source": [
    "def getFiveArticles(e, userId):\n",
    "    \n",
    "    ee=e\n",
    "    #get all articles read by user\n",
    "    var= dfClicks.loc[dfClicks['user_id']==userId]['click_article_id'].tolist()\n",
    "    #chose randomly one\n",
    "    value = randint(0, len(var))\n",
    "    #delete all read articles except the selected one( we do not want to offer user to read something he already read)\n",
    "    for i in range(0, len(var)):\n",
    "        if i != value:\n",
    "            ee=np.delete(ee,[i],0)\n",
    "    arr=[]\n",
    "    \n",
    "    #delecte selected article in the new matrix\n",
    "    f=np.delete(ee,[value],0)\n",
    "    #get 5 articles the most similar to the selected one\n",
    "    for i in range(0,5):\n",
    "        distances = distance.cdist([ee[value]], f, \"cosine\")[0]\n",
    "        min_index = np.argmin(distances)\n",
    "        f=np.delete(f,[min_index],0)\n",
    "        #find corresponding matrix in original martix\n",
    "        result = np.where(e == f[min_index])\n",
    "        arr.append(result[0][0])\n",
    "        \n",
    "    return arr"
   ]
  },
  {
   "cell_type": "markdown",
   "id": "ef260a5e-182e-4a5c-b9d3-4e11a8ea703e",
   "metadata": {},
   "source": [
    "# Content based filtering based on articles embeddings"
   ]
  },
  {
   "cell_type": "markdown",
   "id": "558bea01-4bec-4663-9ed2-a5aab9b3b2ba",
   "metadata": {},
   "source": [
    "#### selecting 5 closest articles using cosin distance"
   ]
  },
  {
   "cell_type": "code",
   "execution_count": 21,
   "id": "9d7ca657-1a47-419b-816d-fee38ef38052",
   "metadata": {},
   "outputs": [
    {
     "name": "stdout",
     "output_type": "stream",
     "text": [
      "[1415, 784, 785, 511, 936]\n"
     ]
    }
   ],
   "source": [
    "print(getFiveArticles(e, 92059))"
   ]
  },
  {
   "cell_type": "markdown",
   "id": "3101b80e-e656-44a1-9fb4-8c1825e71fd6",
   "metadata": {},
   "source": [
    "### Adding words count to article embeddings and selecting 5 closes articles"
   ]
  },
  {
   "cell_type": "code",
   "execution_count": 23,
   "id": "d2abef45-3dde-4277-9fc2-4b2cf07f6127",
   "metadata": {},
   "outputs": [
    {
     "data": {
      "text/plain": [
       "(364047, 251)"
      ]
     },
     "execution_count": 23,
     "metadata": {},
     "output_type": "execute_result"
    }
   ],
   "source": [
    "d=e\n",
    "max=articlesDf['words_count'].max()\n",
    "articlesDf['words_count']= articlesDf['words_count'].apply(lambda x: x/max)\n",
    "\n",
    "d=np.append(d,np.reshape(articlesDf['words_count'].to_numpy(), newshape=(articlesDf['words_count'].shape[0],1)),axis=1)\n",
    "\n",
    "d.shape"
   ]
  },
  {
   "cell_type": "code",
   "execution_count": 24,
   "id": "efe30134-980d-4815-809a-b88ef361b9ca",
   "metadata": {},
   "outputs": [
    {
     "name": "stdout",
     "output_type": "stream",
     "text": [
      "[173, 219, 144, 9, 202]\n"
     ]
    }
   ],
   "source": [
    "print(getFiveArticles(d, 92059))"
   ]
  },
  {
   "cell_type": "code",
   "execution_count": 25,
   "id": "fb60a3de-f453-4de2-9bf6-6eea4361922a",
   "metadata": {},
   "outputs": [],
   "source": [
    "n_users = dfClicks['user_id'].values.ravel()\n",
    "n_users=pd.unique(n_users)\n",
    "n_sessions = dfClicks['session_id'].values.ravel()\n",
    "n_sessions=pd.unique(n_sessions)"
   ]
  },
  {
   "cell_type": "markdown",
   "id": "1ef45948-f91b-4d65-921e-3c2304c471f4",
   "metadata": {},
   "source": [
    "## DNN Recommender system"
   ]
  },
  {
   "cell_type": "markdown",
   "id": "cae6b49d-aec6-4b58-8ba7-fac2b6227729",
   "metadata": {},
   "source": [
    "Create target variable ( articles embeddings )"
   ]
  },
  {
   "cell_type": "code",
   "execution_count": null,
   "id": "baf1f4e5-e15e-46de-98dc-c2a59fa73f54",
   "metadata": {},
   "outputs": [],
   "source": [
    "#Target Variable: articles\n",
    "y= np.zeros((dfClicks.shape[0], 250))\n",
    "\n",
    "for i in range(0,dfClicks.shape[0]):\n",
    "    y[i]=e[[dfClicks.iloc[i,: ]['click_article_id']]]"
   ]
  },
  {
   "cell_type": "markdown",
   "id": "4cc58bfd-6375-4412-9f1c-8098637cc374",
   "metadata": {},
   "source": [
    "#### Get reordered articles metadata dataframe that corresponds to sessions dataframe"
   ]
  },
  {
   "cell_type": "code",
   "execution_count": null,
   "id": "d9563ed6-570a-4e99-98b0-a578dddc9a9d",
   "metadata": {},
   "outputs": [],
   "source": [
    "\n",
    "#processed separately in batches\n",
    "articles_prepared= pd.DataFrame(columns=[\"article_id\",\"category_id\",\"created_at_ts\",\"publisher_id\",\"words_count\"])\n",
    "\n",
    "for index, row in dfClicks.iterrows():\n",
    "    articles_prepared= articles_prepared.append(articlesDf.loc[row['click_article_id']])\n"
   ]
  },
  {
   "cell_type": "markdown",
   "id": "de97e5ab-4828-49d0-a917-a25ecaff2bb6",
   "metadata": {},
   "source": [
    "#### DNN based on article category, word count, user,ategory_id words_count, user_id, date_created"
   ]
  },
  {
   "cell_type": "code",
   "execution_count": null,
   "id": "b197a9e0-a33a-4d25-98de-9af21d660199",
   "metadata": {},
   "outputs": [],
   "source": [
    "n_cats = reordered['category_id'].values.ravel()\n",
    "n_cats=pd.unique(reordered['category_id'])\n",
    "n_users = users.values.ravel()\n",
    "n_users=pd.unique(n_users)\n",
    "\n",
    "from keras.layers import Input, Embedding, Flatten, Dot, Dense, Multiply, LSTM, Dropout\n",
    "from keras.models import Model\n",
    "from keras.optimizers import SGD\n",
    "\n",
    "user_input = Input(shape=[1], name=\"User-Input\")\n",
    "user_embedding = Embedding(n_users.shape[0],250, name=\"Users-Embedding\")(user_input)\n",
    "user_vec = Dense(250, activation='relu')(user_embedding)\n",
    "\n",
    "cat_input = Input(shape=[1], name=\"Category-Input\")\n",
    "cat_embedding = Embedding(reordered['category_id'].max(), 250, name=\"Catgory-Embedding\")(cat_input)\n",
    "cat_vec = Dense(250, activation='relu')(cat_embedding)\n",
    "\n",
    "words_input = Input(shape=[1], name=\"Words-Input\")\n",
    "words_vec=Dense(250, activation='relu')(words_input)\n",
    "\n",
    "date_input= Input(shape=(1,1),name=\"Date_Created-Input\")\n",
    "date_vec= LSTM(500, input_shape=(1,1))(date_input)\n",
    "date_drop=Dropout(0.2)(date_vec)\n",
    "date_dense= Dense(250, activation=\"relu\")(date_drop)\n",
    "\n",
    "prod = Multiply()([user_vec,cat_vec,words_vec,date_dense])\n",
    "\n",
    "dense2= Dense(250, activation =\"relu\")(prod)\n",
    "fin= Flatten()(dense2)\n",
    "model = Model([user_input, cat_input,words_input, date_input], fin)\n",
    "opt = SGD(learning_rate=0.01)\n",
    "model.compile(loss='mean_squared_error', optimizer=opt, metrics=['mae', 'mse'] )\n",
    "model.summary()"
   ]
  },
  {
   "cell_type": "code",
   "execution_count": null,
   "id": "97e12e3a-73c7-4cd8-b01f-0675fbbc0174",
   "metadata": {},
   "outputs": [],
   "source": [
    "import multiprocessing\n",
    "_max=reordered['words_count'].max()\n",
    "model.fit([users,reordered['category_id'],reordered['words_count'].apply(lambda x: x/_max),reordered['created_at_ts'].to_numpy().reshape( -1,1,1)] ,y, epochs=10, batch_size=128,  verbose=1,validation_split=0.2, workers=multiprocessing.cpu_count())"
   ]
  },
  {
   "cell_type": "code",
   "execution_count": null,
   "id": "465fbe58-deac-47a3-93e9-e67e4a60d1c8",
   "metadata": {},
   "outputs": [],
   "source": []
  },
  {
   "cell_type": "markdown",
   "id": "de0558d4-47d3-4b88-ba5f-36aa215bce62",
   "metadata": {},
   "source": [
    "# Collaborative based filtering"
   ]
  },
  {
   "cell_type": "markdown",
   "id": "84a48970-dc6b-4b26-9bd3-8222af019f8b",
   "metadata": {},
   "source": [
    "memory based (kmea"
   ]
  }
 ],
 "metadata": {
  "kernelspec": {
   "display_name": "Python 3",
   "language": "python",
   "name": "python3"
  },
  "language_info": {
   "codemirror_mode": {
    "name": "ipython",
    "version": 3
   },
   "file_extension": ".py",
   "mimetype": "text/x-python",
   "name": "python",
   "nbconvert_exporter": "python",
   "pygments_lexer": "ipython3",
   "version": "3.7.10"
  }
 },
 "nbformat": 4,
 "nbformat_minor": 5
}
